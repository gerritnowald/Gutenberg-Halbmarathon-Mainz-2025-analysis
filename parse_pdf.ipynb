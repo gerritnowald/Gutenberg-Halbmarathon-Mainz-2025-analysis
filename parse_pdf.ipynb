{
 "cells": [
  {
   "cell_type": "code",
   "execution_count": 1,
   "id": "4ba8a3e1",
   "metadata": {},
   "outputs": [],
   "source": [
    "import pdfplumber\n",
    "import pandas as pd"
   ]
  },
  {
   "cell_type": "code",
   "execution_count": null,
   "id": "9d406d95",
   "metadata": {},
   "outputs": [
    {
     "name": "stderr",
     "output_type": "stream",
     "text": [
      "CropBox missing from /Page, defaulting to MediaBox\n",
      "CropBox missing from /Page, defaulting to MediaBox\n",
      "CropBox missing from /Page, defaulting to MediaBox\n",
      "CropBox missing from /Page, defaulting to MediaBox\n",
      "CropBox missing from /Page, defaulting to MediaBox\n",
      "CropBox missing from /Page, defaulting to MediaBox\n",
      "CropBox missing from /Page, defaulting to MediaBox\n",
      "CropBox missing from /Page, defaulting to MediaBox\n",
      "CropBox missing from /Page, defaulting to MediaBox\n",
      "CropBox missing from /Page, defaulting to MediaBox\n",
      "CropBox missing from /Page, defaulting to MediaBox\n",
      "CropBox missing from /Page, defaulting to MediaBox\n",
      "CropBox missing from /Page, defaulting to MediaBox\n",
      "CropBox missing from /Page, defaulting to MediaBox\n",
      "CropBox missing from /Page, defaulting to MediaBox\n",
      "CropBox missing from /Page, defaulting to MediaBox\n",
      "CropBox missing from /Page, defaulting to MediaBox\n",
      "CropBox missing from /Page, defaulting to MediaBox\n",
      "CropBox missing from /Page, defaulting to MediaBox\n",
      "CropBox missing from /Page, defaulting to MediaBox\n",
      "CropBox missing from /Page, defaulting to MediaBox\n",
      "CropBox missing from /Page, defaulting to MediaBox\n",
      "CropBox missing from /Page, defaulting to MediaBox\n",
      "CropBox missing from /Page, defaulting to MediaBox\n",
      "CropBox missing from /Page, defaulting to MediaBox\n",
      "CropBox missing from /Page, defaulting to MediaBox\n",
      "CropBox missing from /Page, defaulting to MediaBox\n",
      "CropBox missing from /Page, defaulting to MediaBox\n",
      "CropBox missing from /Page, defaulting to MediaBox\n",
      "CropBox missing from /Page, defaulting to MediaBox\n",
      "CropBox missing from /Page, defaulting to MediaBox\n",
      "CropBox missing from /Page, defaulting to MediaBox\n",
      "CropBox missing from /Page, defaulting to MediaBox\n",
      "CropBox missing from /Page, defaulting to MediaBox\n",
      "CropBox missing from /Page, defaulting to MediaBox\n",
      "CropBox missing from /Page, defaulting to MediaBox\n",
      "CropBox missing from /Page, defaulting to MediaBox\n",
      "CropBox missing from /Page, defaulting to MediaBox\n",
      "CropBox missing from /Page, defaulting to MediaBox\n",
      "CropBox missing from /Page, defaulting to MediaBox\n",
      "CropBox missing from /Page, defaulting to MediaBox\n",
      "CropBox missing from /Page, defaulting to MediaBox\n",
      "CropBox missing from /Page, defaulting to MediaBox\n",
      "CropBox missing from /Page, defaulting to MediaBox\n",
      "CropBox missing from /Page, defaulting to MediaBox\n",
      "CropBox missing from /Page, defaulting to MediaBox\n",
      "CropBox missing from /Page, defaulting to MediaBox\n",
      "CropBox missing from /Page, defaulting to MediaBox\n",
      "CropBox missing from /Page, defaulting to MediaBox\n",
      "CropBox missing from /Page, defaulting to MediaBox\n",
      "CropBox missing from /Page, defaulting to MediaBox\n",
      "CropBox missing from /Page, defaulting to MediaBox\n",
      "CropBox missing from /Page, defaulting to MediaBox\n",
      "CropBox missing from /Page, defaulting to MediaBox\n",
      "CropBox missing from /Page, defaulting to MediaBox\n",
      "CropBox missing from /Page, defaulting to MediaBox\n",
      "CropBox missing from /Page, defaulting to MediaBox\n",
      "CropBox missing from /Page, defaulting to MediaBox\n",
      "CropBox missing from /Page, defaulting to MediaBox\n",
      "CropBox missing from /Page, defaulting to MediaBox\n",
      "CropBox missing from /Page, defaulting to MediaBox\n",
      "CropBox missing from /Page, defaulting to MediaBox\n",
      "CropBox missing from /Page, defaulting to MediaBox\n",
      "CropBox missing from /Page, defaulting to MediaBox\n",
      "CropBox missing from /Page, defaulting to MediaBox\n",
      "CropBox missing from /Page, defaulting to MediaBox\n",
      "CropBox missing from /Page, defaulting to MediaBox\n",
      "CropBox missing from /Page, defaulting to MediaBox\n",
      "CropBox missing from /Page, defaulting to MediaBox\n",
      "CropBox missing from /Page, defaulting to MediaBox\n",
      "CropBox missing from /Page, defaulting to MediaBox\n",
      "CropBox missing from /Page, defaulting to MediaBox\n",
      "CropBox missing from /Page, defaulting to MediaBox\n",
      "CropBox missing from /Page, defaulting to MediaBox\n",
      "CropBox missing from /Page, defaulting to MediaBox\n",
      "CropBox missing from /Page, defaulting to MediaBox\n",
      "CropBox missing from /Page, defaulting to MediaBox\n",
      "CropBox missing from /Page, defaulting to MediaBox\n",
      "CropBox missing from /Page, defaulting to MediaBox\n",
      "CropBox missing from /Page, defaulting to MediaBox\n",
      "CropBox missing from /Page, defaulting to MediaBox\n",
      "CropBox missing from /Page, defaulting to MediaBox\n",
      "CropBox missing from /Page, defaulting to MediaBox\n",
      "CropBox missing from /Page, defaulting to MediaBox\n",
      "CropBox missing from /Page, defaulting to MediaBox\n",
      "CropBox missing from /Page, defaulting to MediaBox\n",
      "CropBox missing from /Page, defaulting to MediaBox\n",
      "CropBox missing from /Page, defaulting to MediaBox\n",
      "CropBox missing from /Page, defaulting to MediaBox\n",
      "CropBox missing from /Page, defaulting to MediaBox\n",
      "CropBox missing from /Page, defaulting to MediaBox\n",
      "CropBox missing from /Page, defaulting to MediaBox\n",
      "CropBox missing from /Page, defaulting to MediaBox\n",
      "CropBox missing from /Page, defaulting to MediaBox\n",
      "CropBox missing from /Page, defaulting to MediaBox\n",
      "CropBox missing from /Page, defaulting to MediaBox\n",
      "CropBox missing from /Page, defaulting to MediaBox\n",
      "CropBox missing from /Page, defaulting to MediaBox\n",
      "CropBox missing from /Page, defaulting to MediaBox\n",
      "CropBox missing from /Page, defaulting to MediaBox\n",
      "CropBox missing from /Page, defaulting to MediaBox\n",
      "CropBox missing from /Page, defaulting to MediaBox\n",
      "CropBox missing from /Page, defaulting to MediaBox\n",
      "CropBox missing from /Page, defaulting to MediaBox\n",
      "CropBox missing from /Page, defaulting to MediaBox\n",
      "CropBox missing from /Page, defaulting to MediaBox\n",
      "CropBox missing from /Page, defaulting to MediaBox\n",
      "CropBox missing from /Page, defaulting to MediaBox\n",
      "CropBox missing from /Page, defaulting to MediaBox\n",
      "CropBox missing from /Page, defaulting to MediaBox\n",
      "CropBox missing from /Page, defaulting to MediaBox\n",
      "CropBox missing from /Page, defaulting to MediaBox\n",
      "CropBox missing from /Page, defaulting to MediaBox\n",
      "CropBox missing from /Page, defaulting to MediaBox\n",
      "CropBox missing from /Page, defaulting to MediaBox\n",
      "CropBox missing from /Page, defaulting to MediaBox\n",
      "CropBox missing from /Page, defaulting to MediaBox\n",
      "CropBox missing from /Page, defaulting to MediaBox\n",
      "CropBox missing from /Page, defaulting to MediaBox\n",
      "CropBox missing from /Page, defaulting to MediaBox\n",
      "CropBox missing from /Page, defaulting to MediaBox\n",
      "CropBox missing from /Page, defaulting to MediaBox\n",
      "CropBox missing from /Page, defaulting to MediaBox\n",
      "CropBox missing from /Page, defaulting to MediaBox\n",
      "CropBox missing from /Page, defaulting to MediaBox\n",
      "CropBox missing from /Page, defaulting to MediaBox\n",
      "CropBox missing from /Page, defaulting to MediaBox\n",
      "CropBox missing from /Page, defaulting to MediaBox\n",
      "CropBox missing from /Page, defaulting to MediaBox\n",
      "CropBox missing from /Page, defaulting to MediaBox\n",
      "CropBox missing from /Page, defaulting to MediaBox\n",
      "CropBox missing from /Page, defaulting to MediaBox\n",
      "CropBox missing from /Page, defaulting to MediaBox\n",
      "CropBox missing from /Page, defaulting to MediaBox\n",
      "CropBox missing from /Page, defaulting to MediaBox\n",
      "CropBox missing from /Page, defaulting to MediaBox\n",
      "CropBox missing from /Page, defaulting to MediaBox\n",
      "CropBox missing from /Page, defaulting to MediaBox\n",
      "CropBox missing from /Page, defaulting to MediaBox\n",
      "CropBox missing from /Page, defaulting to MediaBox\n",
      "CropBox missing from /Page, defaulting to MediaBox\n",
      "CropBox missing from /Page, defaulting to MediaBox\n",
      "CropBox missing from /Page, defaulting to MediaBox\n",
      "CropBox missing from /Page, defaulting to MediaBox\n",
      "CropBox missing from /Page, defaulting to MediaBox\n",
      "CropBox missing from /Page, defaulting to MediaBox\n",
      "CropBox missing from /Page, defaulting to MediaBox\n"
     ]
    }
   ],
   "source": [
    "pdf_path = \"01ErgebnisseZieleinlaufListe.pdf\"\n",
    "\n",
    "with pdfplumber.open(pdf_path) as pdf:\n",
    "    data = []\n",
    "    for page in pdf.pages:\n",
    "        text = page.extract_text()\n",
    "        if text:\n",
    "            lines = text.split(\"\\n\")\n",
    "            data.extend(lines)"
   ]
  },
  {
   "cell_type": "code",
   "execution_count": 8,
   "id": "f320797a",
   "metadata": {},
   "outputs": [
    {
     "data": {
      "application/vnd.microsoft.datawrangler.viewer.v0+json": {
       "columns": [
        {
         "name": "index",
         "rawType": "int64",
         "type": "integer"
        },
        {
         "name": "place",
         "rawType": "object",
         "type": "string"
        },
        {
         "name": "number",
         "rawType": "object",
         "type": "string"
        },
        {
         "name": "sex",
         "rawType": "object",
         "type": "string"
        },
        {
         "name": "time",
         "rawType": "object",
         "type": "string"
        }
       ],
       "conversionMethod": "pd.DataFrame",
       "ref": "8816a87c-09a9-496f-8e5c-172684729c74",
       "rows": [
        [
         "2",
         "1",
         "11",
         "M",
         "1:00:50"
        ],
        [
         "3",
         "2",
         "4",
         "M",
         "1:01:22"
        ],
        [
         "5",
         "3",
         "2",
         "M",
         "1:01:24"
        ],
        [
         "7",
         "4",
         "9",
         "M",
         "1:02:15"
        ],
        [
         "8",
         "5",
         "5",
         "M",
         "1:02:19"
        ],
        [
         "9",
         "6",
         "30",
         "M",
         "1:02:30"
        ],
        [
         "10",
         "7",
         "6",
         "M",
         "1:03:34"
        ],
        [
         "11",
         "8",
         "7",
         "M",
         "1:03:57"
        ],
        [
         "12",
         "9",
         "3",
         "M",
         "1:04:48"
        ],
        [
         "13",
         "10",
         "95",
         "M",
         "1:07:53"
        ],
        [
         "14",
         "11",
         "12",
         "M",
         "1:08:23"
        ],
        [
         "15",
         "12",
         "4",
         "W",
         "1:08:52"
        ],
        [
         "16",
         "13",
         "32",
         "M",
         "1:08:54"
        ],
        [
         "17",
         "14",
         "6",
         "W",
         "1:09:04"
        ],
        [
         "18",
         "15",
         "3",
         "W",
         "1:09:43"
        ],
        [
         "19",
         "16",
         "33",
         "M",
         "1:09:45"
        ],
        [
         "20",
         "17",
         "3931",
         "M",
         "1:09:42"
        ],
        [
         "21",
         "18",
         "2",
         "W",
         "1:09:56"
        ],
        [
         "22",
         "19",
         "31",
         "M",
         "1:09:58"
        ],
        [
         "23",
         "20",
         "7320",
         "M",
         "1:10:36"
        ],
        [
         "24",
         "21",
         "3514",
         "M",
         "1:11:15"
        ],
        [
         "25",
         "22",
         "5",
         "W",
         "1:11:44"
        ],
        [
         "26",
         "23",
         "9410",
         "M",
         "1:11:45"
        ],
        [
         "27",
         "24",
         "3388",
         "M",
         "1:12:02"
        ],
        [
         "28",
         "25",
         "1979",
         "M",
         "1:12:15"
        ],
        [
         "29",
         "26",
         "5685",
         "M",
         "1:12:20"
        ],
        [
         "30",
         "27",
         "5262",
         "M",
         "1:13:25"
        ],
        [
         "31",
         "28",
         "899",
         "M",
         "1:13:43"
        ],
        [
         "32",
         "29",
         "5669",
         "M",
         "1:14:11"
        ],
        [
         "33",
         "30",
         "9227",
         "M",
         "1:14:36"
        ],
        [
         "34",
         "31",
         "5008",
         "M",
         "1:14:39"
        ],
        [
         "35",
         "32",
         "4153",
         "M",
         "1:14:46"
        ],
        [
         "36",
         "33",
         "4229",
         "M",
         "1:14:44"
        ],
        [
         "37",
         "34",
         "912",
         "M",
         "1:15:02"
        ],
        [
         "38",
         "35",
         "8020",
         "M",
         "1:15:05"
        ],
        [
         "39",
         "36",
         "4378",
         "M",
         "1:15:06"
        ],
        [
         "40",
         "37",
         "3118",
         "M",
         "1:15:30"
        ],
        [
         "41",
         "38",
         "9151",
         "M",
         "1:15:36"
        ],
        [
         "42",
         "39",
         "1107",
         "M",
         "1:15:46"
        ],
        [
         "43",
         "40",
         "2112",
         "M",
         "1:15:51"
        ],
        [
         "44",
         "41",
         "3313",
         "M",
         "1:16:02"
        ],
        [
         "45",
         "42",
         "8715",
         "M",
         "1:16:19"
        ],
        [
         "46",
         "43",
         "6944",
         "M",
         "1:16:37"
        ],
        [
         "47",
         "44",
         "6626",
         "M",
         "1:16:53"
        ],
        [
         "48",
         "45",
         "2855",
         "M",
         "1:16:52"
        ],
        [
         "49",
         "46",
         "10",
         "W",
         "1:17:02"
        ],
        [
         "50",
         "47",
         "9393",
         "M",
         "1:17:18"
        ],
        [
         "51",
         "48",
         "5624",
         "M",
         "1:17:34"
        ],
        [
         "54",
         "49",
         "9400",
         "M",
         "1:17:38"
        ],
        [
         "55",
         "50",
         "5827",
         "M",
         "1:17:51"
        ]
       ],
       "shape": {
        "columns": 4,
        "rows": 7326
       }
      },
      "text/html": [
       "<div>\n",
       "<style scoped>\n",
       "    .dataframe tbody tr th:only-of-type {\n",
       "        vertical-align: middle;\n",
       "    }\n",
       "\n",
       "    .dataframe tbody tr th {\n",
       "        vertical-align: top;\n",
       "    }\n",
       "\n",
       "    .dataframe thead th {\n",
       "        text-align: right;\n",
       "    }\n",
       "</style>\n",
       "<table border=\"1\" class=\"dataframe\">\n",
       "  <thead>\n",
       "    <tr style=\"text-align: right;\">\n",
       "      <th></th>\n",
       "      <th>place</th>\n",
       "      <th>number</th>\n",
       "      <th>sex</th>\n",
       "      <th>time</th>\n",
       "    </tr>\n",
       "  </thead>\n",
       "  <tbody>\n",
       "    <tr>\n",
       "      <th>2</th>\n",
       "      <td>1</td>\n",
       "      <td>11</td>\n",
       "      <td>M</td>\n",
       "      <td>1:00:50</td>\n",
       "    </tr>\n",
       "    <tr>\n",
       "      <th>3</th>\n",
       "      <td>2</td>\n",
       "      <td>4</td>\n",
       "      <td>M</td>\n",
       "      <td>1:01:22</td>\n",
       "    </tr>\n",
       "    <tr>\n",
       "      <th>5</th>\n",
       "      <td>3</td>\n",
       "      <td>2</td>\n",
       "      <td>M</td>\n",
       "      <td>1:01:24</td>\n",
       "    </tr>\n",
       "    <tr>\n",
       "      <th>7</th>\n",
       "      <td>4</td>\n",
       "      <td>9</td>\n",
       "      <td>M</td>\n",
       "      <td>1:02:15</td>\n",
       "    </tr>\n",
       "    <tr>\n",
       "      <th>8</th>\n",
       "      <td>5</td>\n",
       "      <td>5</td>\n",
       "      <td>M</td>\n",
       "      <td>1:02:19</td>\n",
       "    </tr>\n",
       "    <tr>\n",
       "      <th>...</th>\n",
       "      <td>...</td>\n",
       "      <td>...</td>\n",
       "      <td>...</td>\n",
       "      <td>...</td>\n",
       "    </tr>\n",
       "    <tr>\n",
       "      <th>7617</th>\n",
       "      <td>7322</td>\n",
       "      <td>8579</td>\n",
       "      <td>W</td>\n",
       "      <td>3:13:59</td>\n",
       "    </tr>\n",
       "    <tr>\n",
       "      <th>7618</th>\n",
       "      <td>7323</td>\n",
       "      <td>4191</td>\n",
       "      <td>M</td>\n",
       "      <td>3:16:56</td>\n",
       "    </tr>\n",
       "    <tr>\n",
       "      <th>7619</th>\n",
       "      <td>7324</td>\n",
       "      <td>2492</td>\n",
       "      <td>M</td>\n",
       "      <td>3:18:03</td>\n",
       "    </tr>\n",
       "    <tr>\n",
       "      <th>7620</th>\n",
       "      <td>7325</td>\n",
       "      <td>7400</td>\n",
       "      <td>W</td>\n",
       "      <td>3:27:25</td>\n",
       "    </tr>\n",
       "    <tr>\n",
       "      <th>7621</th>\n",
       "      <td>7326</td>\n",
       "      <td>8846</td>\n",
       "      <td>W</td>\n",
       "      <td>3:29:02</td>\n",
       "    </tr>\n",
       "  </tbody>\n",
       "</table>\n",
       "<p>7326 rows × 4 columns</p>\n",
       "</div>"
      ],
      "text/plain": [
       "     place number sex     time\n",
       "2        1     11   M  1:00:50\n",
       "3        2      4   M  1:01:22\n",
       "5        3      2   M  1:01:24\n",
       "7        4      9   M  1:02:15\n",
       "8        5      5   M  1:02:19\n",
       "...    ...    ...  ..      ...\n",
       "7617  7322   8579   W  3:13:59\n",
       "7618  7323   4191   M  3:16:56\n",
       "7619  7324   2492   M  3:18:03\n",
       "7620  7325   7400   W  3:27:25\n",
       "7621  7326   8846   W  3:29:02\n",
       "\n",
       "[7326 rows x 4 columns]"
      ]
     },
     "execution_count": 8,
     "metadata": {},
     "output_type": "execute_result"
    }
   ],
   "source": [
    "data_new = []\n",
    "\n",
    "for line in data:\n",
    "    \n",
    "    columns = line.split()\n",
    "\n",
    "    try:\n",
    "        place_and_number = columns[0].split('.')\n",
    "        if len(place_and_number[1]) == 0:\n",
    "            place_and_number = [place_and_number[0], columns[1]]\n",
    "    except:\n",
    "        pass\n",
    "\n",
    "    columns = [*place_and_number , *columns[-3:-1]]\n",
    "    \n",
    "    data_new.append(columns)\n",
    "\n",
    "\n",
    "df = pd.DataFrame(data_new, columns=['place', 'number', 'sex', 'time'])\n",
    "df = df.dropna()\n",
    "\n",
    "df['place' ] = df['place' ].str.replace(r'\\D', '', regex=True)\n",
    "df['number'] = df['number'].str.replace(r'\\D', '', regex=True)\n",
    "\n",
    "df"
   ]
  },
  {
   "cell_type": "code",
   "execution_count": 112,
   "id": "d550b88a",
   "metadata": {},
   "outputs": [],
   "source": [
    "df.to_csv(\"output.csv\", index=False)"
   ]
  }
 ],
 "metadata": {
  "kernelspec": {
   "display_name": "Python 3",
   "language": "python",
   "name": "python3"
  },
  "language_info": {
   "codemirror_mode": {
    "name": "ipython",
    "version": 3
   },
   "file_extension": ".py",
   "mimetype": "text/x-python",
   "name": "python",
   "nbconvert_exporter": "python",
   "pygments_lexer": "ipython3",
   "version": "3.13.2"
  }
 },
 "nbformat": 4,
 "nbformat_minor": 5
}
