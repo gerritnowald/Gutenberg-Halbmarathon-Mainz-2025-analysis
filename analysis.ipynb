{
 "cells": [
  {
   "cell_type": "code",
   "execution_count": 27,
   "id": "e6a6429c",
   "metadata": {},
   "outputs": [],
   "source": [
    "import pandas as pd\n",
    "\n",
    "import matplotlib.pyplot as plt\n",
    "plt.style.use(\"dark_background\")"
   ]
  },
  {
   "cell_type": "code",
   "execution_count": 28,
   "id": "764e6009",
   "metadata": {},
   "outputs": [],
   "source": [
    "number = 1171"
   ]
  },
  {
   "cell_type": "code",
   "execution_count": 29,
   "id": "88922e48",
   "metadata": {},
   "outputs": [
    {
     "data": {
      "application/vnd.microsoft.datawrangler.viewer.v0+json": {
       "columns": [
        {
         "name": "place",
         "rawType": "int64",
         "type": "integer"
        },
        {
         "name": "number",
         "rawType": "int64",
         "type": "integer"
        },
        {
         "name": "sex",
         "rawType": "object",
         "type": "string"
        },
        {
         "name": "time",
         "rawType": "timedelta64[ns]",
         "type": "unknown"
        },
        {
         "name": "time_seconds",
         "rawType": "float64",
         "type": "float"
        }
       ],
       "conversionMethod": "pd.DataFrame",
       "ref": "c1ea5f38-472c-40b9-9511-b1af6b7f83db",
       "rows": [
        [
         "1",
         "11",
         "M",
         "0 days 01:00:50",
         "3650.0"
        ],
        [
         "2",
         "4",
         "M",
         "0 days 01:01:22",
         "3682.0"
        ],
        [
         "3",
         "2",
         "M",
         "0 days 01:01:24",
         "3684.0"
        ],
        [
         "4",
         "9",
         "M",
         "0 days 01:02:15",
         "3735.0"
        ],
        [
         "5",
         "5",
         "M",
         "0 days 01:02:19",
         "3739.0"
        ],
        [
         "6",
         "30",
         "M",
         "0 days 01:02:30",
         "3750.0"
        ],
        [
         "7",
         "6",
         "M",
         "0 days 01:03:34",
         "3814.0"
        ],
        [
         "8",
         "7",
         "M",
         "0 days 01:03:57",
         "3837.0"
        ],
        [
         "9",
         "3",
         "M",
         "0 days 01:04:48",
         "3888.0"
        ],
        [
         "10",
         "95",
         "M",
         "0 days 01:07:53",
         "4073.0"
        ],
        [
         "11",
         "12",
         "M",
         "0 days 01:08:23",
         "4103.0"
        ],
        [
         "12",
         "4",
         "W",
         "0 days 01:08:52",
         "4132.0"
        ],
        [
         "13",
         "32",
         "M",
         "0 days 01:08:54",
         "4134.0"
        ],
        [
         "14",
         "6",
         "W",
         "0 days 01:09:04",
         "4144.0"
        ],
        [
         "15",
         "3",
         "W",
         "0 days 01:09:43",
         "4183.0"
        ],
        [
         "16",
         "33",
         "M",
         "0 days 01:09:45",
         "4185.0"
        ],
        [
         "17",
         "3931",
         "M",
         "0 days 01:09:42",
         "4182.0"
        ],
        [
         "18",
         "2",
         "W",
         "0 days 01:09:56",
         "4196.0"
        ],
        [
         "19",
         "31",
         "M",
         "0 days 01:09:58",
         "4198.0"
        ],
        [
         "20",
         "7320",
         "M",
         "0 days 01:10:36",
         "4236.0"
        ],
        [
         "21",
         "3514",
         "M",
         "0 days 01:11:15",
         "4275.0"
        ],
        [
         "22",
         "5",
         "W",
         "0 days 01:11:44",
         "4304.0"
        ],
        [
         "23",
         "9410",
         "M",
         "0 days 01:11:45",
         "4305.0"
        ],
        [
         "24",
         "3388",
         "M",
         "0 days 01:12:02",
         "4322.0"
        ],
        [
         "25",
         "1979",
         "M",
         "0 days 01:12:15",
         "4335.0"
        ],
        [
         "26",
         "5685",
         "M",
         "0 days 01:12:20",
         "4340.0"
        ],
        [
         "27",
         "5262",
         "M",
         "0 days 01:13:25",
         "4405.0"
        ],
        [
         "28",
         "899",
         "M",
         "0 days 01:13:43",
         "4423.0"
        ],
        [
         "29",
         "5669",
         "M",
         "0 days 01:14:11",
         "4451.0"
        ],
        [
         "30",
         "9227",
         "M",
         "0 days 01:14:36",
         "4476.0"
        ],
        [
         "31",
         "5008",
         "M",
         "0 days 01:14:39",
         "4479.0"
        ],
        [
         "32",
         "4153",
         "M",
         "0 days 01:14:46",
         "4486.0"
        ],
        [
         "33",
         "4229",
         "M",
         "0 days 01:14:44",
         "4484.0"
        ],
        [
         "34",
         "912",
         "M",
         "0 days 01:15:02",
         "4502.0"
        ],
        [
         "35",
         "8020",
         "M",
         "0 days 01:15:05",
         "4505.0"
        ],
        [
         "36",
         "4378",
         "M",
         "0 days 01:15:06",
         "4506.0"
        ],
        [
         "37",
         "3118",
         "M",
         "0 days 01:15:30",
         "4530.0"
        ],
        [
         "38",
         "9151",
         "M",
         "0 days 01:15:36",
         "4536.0"
        ],
        [
         "39",
         "1107",
         "M",
         "0 days 01:15:46",
         "4546.0"
        ],
        [
         "40",
         "2112",
         "M",
         "0 days 01:15:51",
         "4551.0"
        ],
        [
         "41",
         "3313",
         "M",
         "0 days 01:16:02",
         "4562.0"
        ],
        [
         "42",
         "8715",
         "M",
         "0 days 01:16:19",
         "4579.0"
        ],
        [
         "43",
         "6944",
         "M",
         "0 days 01:16:37",
         "4597.0"
        ],
        [
         "44",
         "6626",
         "M",
         "0 days 01:16:53",
         "4613.0"
        ],
        [
         "45",
         "2855",
         "M",
         "0 days 01:16:52",
         "4612.0"
        ],
        [
         "46",
         "10",
         "W",
         "0 days 01:17:02",
         "4622.0"
        ],
        [
         "47",
         "9393",
         "M",
         "0 days 01:17:18",
         "4638.0"
        ],
        [
         "48",
         "5624",
         "M",
         "0 days 01:17:34",
         "4654.0"
        ],
        [
         "49",
         "9400",
         "M",
         "0 days 01:17:38",
         "4658.0"
        ],
        [
         "50",
         "5827",
         "M",
         "0 days 01:17:51",
         "4671.0"
        ]
       ],
       "shape": {
        "columns": 4,
        "rows": 7326
       }
      },
      "text/html": [
       "<div>\n",
       "<style scoped>\n",
       "    .dataframe tbody tr th:only-of-type {\n",
       "        vertical-align: middle;\n",
       "    }\n",
       "\n",
       "    .dataframe tbody tr th {\n",
       "        vertical-align: top;\n",
       "    }\n",
       "\n",
       "    .dataframe thead th {\n",
       "        text-align: right;\n",
       "    }\n",
       "</style>\n",
       "<table border=\"1\" class=\"dataframe\">\n",
       "  <thead>\n",
       "    <tr style=\"text-align: right;\">\n",
       "      <th></th>\n",
       "      <th>number</th>\n",
       "      <th>sex</th>\n",
       "      <th>time</th>\n",
       "      <th>time_seconds</th>\n",
       "    </tr>\n",
       "    <tr>\n",
       "      <th>place</th>\n",
       "      <th></th>\n",
       "      <th></th>\n",
       "      <th></th>\n",
       "      <th></th>\n",
       "    </tr>\n",
       "  </thead>\n",
       "  <tbody>\n",
       "    <tr>\n",
       "      <th>1</th>\n",
       "      <td>11</td>\n",
       "      <td>M</td>\n",
       "      <td>0 days 01:00:50</td>\n",
       "      <td>3650.0</td>\n",
       "    </tr>\n",
       "    <tr>\n",
       "      <th>2</th>\n",
       "      <td>4</td>\n",
       "      <td>M</td>\n",
       "      <td>0 days 01:01:22</td>\n",
       "      <td>3682.0</td>\n",
       "    </tr>\n",
       "    <tr>\n",
       "      <th>3</th>\n",
       "      <td>2</td>\n",
       "      <td>M</td>\n",
       "      <td>0 days 01:01:24</td>\n",
       "      <td>3684.0</td>\n",
       "    </tr>\n",
       "    <tr>\n",
       "      <th>4</th>\n",
       "      <td>9</td>\n",
       "      <td>M</td>\n",
       "      <td>0 days 01:02:15</td>\n",
       "      <td>3735.0</td>\n",
       "    </tr>\n",
       "    <tr>\n",
       "      <th>5</th>\n",
       "      <td>5</td>\n",
       "      <td>M</td>\n",
       "      <td>0 days 01:02:19</td>\n",
       "      <td>3739.0</td>\n",
       "    </tr>\n",
       "    <tr>\n",
       "      <th>...</th>\n",
       "      <td>...</td>\n",
       "      <td>...</td>\n",
       "      <td>...</td>\n",
       "      <td>...</td>\n",
       "    </tr>\n",
       "    <tr>\n",
       "      <th>7322</th>\n",
       "      <td>8579</td>\n",
       "      <td>W</td>\n",
       "      <td>0 days 03:13:59</td>\n",
       "      <td>11639.0</td>\n",
       "    </tr>\n",
       "    <tr>\n",
       "      <th>7323</th>\n",
       "      <td>4191</td>\n",
       "      <td>M</td>\n",
       "      <td>0 days 03:16:56</td>\n",
       "      <td>11816.0</td>\n",
       "    </tr>\n",
       "    <tr>\n",
       "      <th>7324</th>\n",
       "      <td>2492</td>\n",
       "      <td>M</td>\n",
       "      <td>0 days 03:18:03</td>\n",
       "      <td>11883.0</td>\n",
       "    </tr>\n",
       "    <tr>\n",
       "      <th>7325</th>\n",
       "      <td>7400</td>\n",
       "      <td>W</td>\n",
       "      <td>0 days 03:27:25</td>\n",
       "      <td>12445.0</td>\n",
       "    </tr>\n",
       "    <tr>\n",
       "      <th>7326</th>\n",
       "      <td>8846</td>\n",
       "      <td>W</td>\n",
       "      <td>0 days 03:29:02</td>\n",
       "      <td>12542.0</td>\n",
       "    </tr>\n",
       "  </tbody>\n",
       "</table>\n",
       "<p>7326 rows × 4 columns</p>\n",
       "</div>"
      ],
      "text/plain": [
       "       number sex            time  time_seconds\n",
       "place                                          \n",
       "1          11   M 0 days 01:00:50        3650.0\n",
       "2           4   M 0 days 01:01:22        3682.0\n",
       "3           2   M 0 days 01:01:24        3684.0\n",
       "4           9   M 0 days 01:02:15        3735.0\n",
       "5           5   M 0 days 01:02:19        3739.0\n",
       "...       ...  ..             ...           ...\n",
       "7322     8579   W 0 days 03:13:59       11639.0\n",
       "7323     4191   M 0 days 03:16:56       11816.0\n",
       "7324     2492   M 0 days 03:18:03       11883.0\n",
       "7325     7400   W 0 days 03:27:25       12445.0\n",
       "7326     8846   W 0 days 03:29:02       12542.0\n",
       "\n",
       "[7326 rows x 4 columns]"
      ]
     },
     "execution_count": 29,
     "metadata": {},
     "output_type": "execute_result"
    }
   ],
   "source": [
    "df = pd.read_csv('output.csv', index_col=0)\n",
    "\n",
    "df['time'] = pd.to_timedelta(df['time'])\n",
    "df['time_seconds'] = df['time'].dt.total_seconds()\n",
    "\n",
    "df"
   ]
  },
  {
   "cell_type": "code",
   "execution_count": 30,
   "id": "ad37787f",
   "metadata": {},
   "outputs": [
    {
     "name": "stdout",
     "output_type": "stream",
     "text": [
      "7319 participants\n",
      "60 % male\n",
      "median time: 1.0 hours, 57.0 minutes, 57.0 seconds\n"
     ]
    }
   ],
   "source": [
    "N_total = len(df['number'].unique())\n",
    "print(f'{N_total} participants')\n",
    "\n",
    "N_male = df[df['sex'] == 'M'].shape[0]\n",
    "print(f'{round(N_male/N_total*100)} % male')\n",
    "\n",
    "hours, remainder = divmod(df['time_seconds'].median(), 3600)\n",
    "minutes, seconds = divmod(remainder, 60)\n",
    "print(f\"median time: {hours} hours, {minutes} minutes, {seconds} seconds\")"
   ]
  },
  {
   "cell_type": "code",
   "execution_count": 31,
   "id": "6f856197",
   "metadata": {},
   "outputs": [
    {
     "data": {
      "text/plain": [
       "<matplotlib.legend.Legend at 0x13b176d3250>"
      ]
     },
     "execution_count": 31,
     "metadata": {},
     "output_type": "execute_result"
    },
    {
     "data": {
      "image/png": "[encoded data removed]",
      "text/plain": [
       "<Figure size 640x480 with 1 Axes>"
      ]
     },
     "metadata": {},
     "output_type": "display_data"
    }
   ],
   "source": [
    "plt.hist([\n",
    "    df.loc[df['sex'] == 'M' , 'time_seconds']/60 , \n",
    "    df.loc[df['sex'] == 'W' , 'time_seconds']/60], \n",
    "    label=['male','female'],\n",
    "    color=['royalblue', 'hotpink'],\n",
    "    bins=200, stacked=True)\n",
    "# plt.axvline(df.loc[df['number'] == number, 'time_seconds'].iloc[0]/60, color='r', linestyle='dashed', linewidth=1, label=number)\n",
    "plt.axvline(60 + 30,   color='w', linestyle='dashed', linewidth=1)\n",
    "plt.axvline(60 + 50,   color='w', linestyle='dashed', linewidth=1)\n",
    "plt.axvline(2*60,      color='w', linestyle='dashed', linewidth=1)\n",
    "plt.axvline(2*60 + 15, color='w', linestyle='dashed', linewidth=1)\n",
    "# plt.axvline(df['time_seconds'].median()/60, color='w', linewidth=1, label='median')\n",
    "plt.xlabel('finish time / min')\n",
    "plt.ylabel('frequency')\n",
    "plt.title('finish time distribution')\n",
    "plt.legend()\n",
    "\n",
    "# plt.savefig('finish_time_distribution.png', dpi=300, transparent=True)"
   ]
  },
  {
   "cell_type": "code",
   "execution_count": null,
   "id": "ffbd1d6e",
   "metadata": {},
   "outputs": [
    {
     "name": "stdout",
     "output_type": "stream",
     "text": [
      "2254. of 4382 males (51.44 %)\n"
     ]
    }
   ],
   "source": [
    "df_male = df[df['sex'] == 'M']\n",
    "df_male.reset_index(drop=True, inplace=True)\n",
    "\n",
    "position_male = df_male[df_male['number'] == number].index[0] + 1\n",
    "\n",
    "print(f'{position_male}. of {N_male} males ({position_male/N_male*100:.2f} %)')"
   ]
  }
 ],
 "metadata": {
  "kernelspec": {
   "display_name": "Python 3",
   "language": "python",
   "name": "python3"
  },
  "language_info": {
   "codemirror_mode": {
    "name": "ipython",
    "version": 3
   },
   "file_extension": ".py",
   "mimetype": "text/x-python",
   "name": "python",
   "nbconvert_exporter": "python",
   "pygments_lexer": "ipython3",
   "version": "3.13.2"
  }
 },
 "nbformat": 4,
 "nbformat_minor": 5
}
