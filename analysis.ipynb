{
 "cells": [
  {
   "cell_type": "code",
   "execution_count": 1,
   "id": "e6a6429c",
   "metadata": {},
   "outputs": [],
   "source": [
    "import pandas as pd\n",
    "\n",
    "import matplotlib.pyplot as plt\n",
    "plt.style.use(\"dark_background\")\n",
    "\n",
    "color_f = 'hotpink'\n",
    "color_m = 'royalblue'"
   ]
  },
  {
   "cell_type": "markdown",
   "id": "b34b6d3a",
   "metadata": {},
   "source": [
    "input for individual results"
   ]
  },
  {
   "cell_type": "code",
   "execution_count": 2,
   "id": "764e6009",
   "metadata": {},
   "outputs": [],
   "source": [
    "number = 1171\n",
    "age    = 35"
   ]
  },
  {
   "cell_type": "markdown",
   "id": "d3af059e",
   "metadata": {},
   "source": [
    "read data"
   ]
  },
  {
   "cell_type": "code",
   "execution_count": 3,
   "id": "88922e48",
   "metadata": {},
   "outputs": [
    {
     "data": {
      "application/vnd.microsoft.datawrangler.viewer.v0+json": {
       "columns": [
        {
         "name": "place",
         "rawType": "int64",
         "type": "integer"
        },
        {
         "name": "number",
         "rawType": "int64",
         "type": "integer"
        },
        {
         "name": "age",
         "rawType": "float64",
         "type": "float"
        },
        {
         "name": "sex",
         "rawType": "object",
         "type": "string"
        },
        {
         "name": "time",
         "rawType": "timedelta64[ns]",
         "type": "unknown"
        },
        {
         "name": "time_min",
         "rawType": "float64",
         "type": "float"
        }
       ],
       "conversionMethod": "pd.DataFrame",
       "ref": "298a864c-47a6-4536-a847-f37ccc9650db",
       "rows": [
        [
         "1",
         "11",
         null,
         "M",
         "0 days 01:00:50",
         "60.833333333333336"
        ],
        [
         "2",
         "4",
         null,
         "M",
         "0 days 01:01:22",
         "61.36666666666667"
        ],
        [
         "3",
         "2",
         "23.0",
         "M",
         "0 days 01:01:24",
         "61.4"
        ],
        [
         "4",
         "9",
         null,
         "M",
         "0 days 01:02:15",
         "62.25"
        ],
        [
         "5",
         "5",
         "30.0",
         "M",
         "0 days 01:02:19",
         "62.31666666666667"
        ],
        [
         "6",
         "30",
         "23.0",
         "M",
         "0 days 01:02:30",
         "62.5"
        ],
        [
         "7",
         "6",
         "23.0",
         "M",
         "0 days 01:03:34",
         "63.56666666666667"
        ],
        [
         "8",
         "7",
         "23.0",
         "M",
         "0 days 01:03:57",
         "63.95"
        ],
        [
         "9",
         "3",
         "40.0",
         "M",
         "0 days 01:04:48",
         "64.8"
        ],
        [
         "10",
         "95",
         "30.0",
         "M",
         "0 days 01:07:53",
         "67.88333333333334"
        ],
        [
         "11",
         "12",
         null,
         "M",
         "0 days 01:08:23",
         "68.38333333333334"
        ],
        [
         "12",
         "4",
         "30.0",
         "W",
         "0 days 01:08:52",
         "68.86666666666666"
        ],
        [
         "13",
         "32",
         "20.0",
         "M",
         "0 days 01:08:54",
         "68.9"
        ],
        [
         "14",
         "6",
         null,
         "W",
         "0 days 01:09:04",
         "69.06666666666666"
        ],
        [
         "15",
         "3",
         "30.0",
         "W",
         "0 days 01:09:43",
         "69.71666666666667"
        ],
        [
         "16",
         "33",
         "30.0",
         "M",
         "0 days 01:09:45",
         "69.75"
        ],
        [
         "17",
         "3931",
         null,
         "M",
         "0 days 01:09:42",
         "69.7"
        ],
        [
         "18",
         "2",
         "35.0",
         "W",
         "0 days 01:09:56",
         "69.93333333333334"
        ],
        [
         "19",
         "31",
         "30.0",
         "M",
         "0 days 01:09:58",
         "69.96666666666667"
        ],
        [
         "20",
         "7320",
         "35.0",
         "M",
         "0 days 01:10:36",
         "70.6"
        ],
        [
         "21",
         "3514",
         "35.0",
         "M",
         "0 days 01:11:15",
         "71.25"
        ],
        [
         "22",
         "5",
         null,
         "W",
         "0 days 01:11:44",
         "71.73333333333333"
        ],
        [
         "23",
         "9410",
         "30.0",
         "M",
         "0 days 01:11:45",
         "71.75"
        ],
        [
         "24",
         "3388",
         null,
         "M",
         "0 days 01:12:02",
         "72.03333333333333"
        ],
        [
         "25",
         "1979",
         "55.0",
         "M",
         "0 days 01:12:15",
         "72.25"
        ],
        [
         "26",
         "5685",
         "30.0",
         "M",
         "0 days 01:12:20",
         "72.33333333333333"
        ],
        [
         "27",
         "5262",
         "35.0",
         "M",
         "0 days 01:13:25",
         "73.41666666666667"
        ],
        [
         "28",
         "899",
         "30.0",
         "M",
         "0 days 01:13:43",
         "73.71666666666667"
        ],
        [
         "29",
         "5669",
         "23.0",
         "M",
         "0 days 01:14:11",
         "74.18333333333334"
        ],
        [
         "30",
         "9227",
         "40.0",
         "M",
         "0 days 01:14:36",
         "74.6"
        ],
        [
         "31",
         "5008",
         "40.0",
         "M",
         "0 days 01:14:39",
         "74.65"
        ],
        [
         "32",
         "4153",
         null,
         "M",
         "0 days 01:14:46",
         "74.76666666666667"
        ],
        [
         "33",
         "4229",
         null,
         "M",
         "0 days 01:14:44",
         "74.73333333333333"
        ],
        [
         "34",
         "912",
         null,
         "M",
         "0 days 01:15:02",
         "75.03333333333333"
        ],
        [
         "35",
         "8020",
         "30.0",
         "M",
         "0 days 01:15:05",
         "75.08333333333333"
        ],
        [
         "36",
         "4378",
         "30.0",
         "M",
         "0 days 01:15:06",
         "75.1"
        ],
        [
         "37",
         "3118",
         "40.0",
         "M",
         "0 days 01:15:30",
         "75.5"
        ],
        [
         "38",
         "9151",
         "35.0",
         "M",
         "0 days 01:15:36",
         "75.6"
        ],
        [
         "39",
         "1107",
         null,
         "M",
         "0 days 01:15:46",
         "75.76666666666667"
        ],
        [
         "40",
         "2112",
         "40.0",
         "M",
         "0 days 01:15:51",
         "75.85"
        ],
        [
         "41",
         "3313",
         null,
         "M",
         "0 days 01:16:02",
         "76.03333333333333"
        ],
        [
         "42",
         "8715",
         "30.0",
         "M",
         "0 days 01:16:19",
         "76.31666666666666"
        ],
        [
         "43",
         "6944",
         "35.0",
         "M",
         "0 days 01:16:37",
         "76.61666666666666"
        ],
        [
         "44",
         "6626",
         null,
         "M",
         "0 days 01:16:53",
         "76.88333333333334"
        ],
        [
         "45",
         "2855",
         null,
         "M",
         "0 days 01:16:52",
         "76.86666666666666"
        ],
        [
         "46",
         "10",
         null,
         "W",
         "0 days 01:17:02",
         "77.03333333333333"
        ],
        [
         "47",
         "9393",
         "35.0",
         "M",
         "0 days 01:17:18",
         "77.3"
        ],
        [
         "48",
         "5624",
         "35.0",
         "M",
         "0 days 01:17:34",
         "77.56666666666666"
        ],
        [
         "49",
         "9400",
         "35.0",
         "M",
         "0 days 01:17:38",
         "77.63333333333334"
        ],
        [
         "50",
         "5827",
         "35.0",
         "M",
         "0 days 01:17:51",
         "77.85"
        ]
       ],
       "shape": {
        "columns": 5,
        "rows": 7326
       }
      },
      "text/html": [
       "<div>\n",
       "<style scoped>\n",
       "    .dataframe tbody tr th:only-of-type {\n",
       "        vertical-align: middle;\n",
       "    }\n",
       "\n",
       "    .dataframe tbody tr th {\n",
       "        vertical-align: top;\n",
       "    }\n",
       "\n",
       "    .dataframe thead th {\n",
       "        text-align: right;\n",
       "    }\n",
       "</style>\n",
       "<table border=\"1\" class=\"dataframe\">\n",
       "  <thead>\n",
       "    <tr style=\"text-align: right;\">\n",
       "      <th></th>\n",
       "      <th>number</th>\n",
       "      <th>age</th>\n",
       "      <th>sex</th>\n",
       "      <th>time</th>\n",
       "      <th>time_min</th>\n",
       "    </tr>\n",
       "    <tr>\n",
       "      <th>place</th>\n",
       "      <th></th>\n",
       "      <th></th>\n",
       "      <th></th>\n",
       "      <th></th>\n",
       "      <th></th>\n",
       "    </tr>\n",
       "  </thead>\n",
       "  <tbody>\n",
       "    <tr>\n",
       "      <th>1</th>\n",
       "      <td>11</td>\n",
       "      <td>NaN</td>\n",
       "      <td>M</td>\n",
       "      <td>0 days 01:00:50</td>\n",
       "      <td>60.833333</td>\n",
       "    </tr>\n",
       "    <tr>\n",
       "      <th>2</th>\n",
       "      <td>4</td>\n",
       "      <td>NaN</td>\n",
       "      <td>M</td>\n",
       "      <td>0 days 01:01:22</td>\n",
       "      <td>61.366667</td>\n",
       "    </tr>\n",
       "    <tr>\n",
       "      <th>3</th>\n",
       "      <td>2</td>\n",
       "      <td>23.0</td>\n",
       "      <td>M</td>\n",
       "      <td>0 days 01:01:24</td>\n",
       "      <td>61.400000</td>\n",
       "    </tr>\n",
       "    <tr>\n",
       "      <th>4</th>\n",
       "      <td>9</td>\n",
       "      <td>NaN</td>\n",
       "      <td>M</td>\n",
       "      <td>0 days 01:02:15</td>\n",
       "      <td>62.250000</td>\n",
       "    </tr>\n",
       "    <tr>\n",
       "      <th>5</th>\n",
       "      <td>5</td>\n",
       "      <td>30.0</td>\n",
       "      <td>M</td>\n",
       "      <td>0 days 01:02:19</td>\n",
       "      <td>62.316667</td>\n",
       "    </tr>\n",
       "    <tr>\n",
       "      <th>...</th>\n",
       "      <td>...</td>\n",
       "      <td>...</td>\n",
       "      <td>...</td>\n",
       "      <td>...</td>\n",
       "      <td>...</td>\n",
       "    </tr>\n",
       "    <tr>\n",
       "      <th>7322</th>\n",
       "      <td>8579</td>\n",
       "      <td>NaN</td>\n",
       "      <td>W</td>\n",
       "      <td>0 days 03:13:59</td>\n",
       "      <td>193.983333</td>\n",
       "    </tr>\n",
       "    <tr>\n",
       "      <th>7323</th>\n",
       "      <td>4191</td>\n",
       "      <td>NaN</td>\n",
       "      <td>M</td>\n",
       "      <td>0 days 03:16:56</td>\n",
       "      <td>196.933333</td>\n",
       "    </tr>\n",
       "    <tr>\n",
       "      <th>7324</th>\n",
       "      <td>2492</td>\n",
       "      <td>60.0</td>\n",
       "      <td>M</td>\n",
       "      <td>0 days 03:18:03</td>\n",
       "      <td>198.050000</td>\n",
       "    </tr>\n",
       "    <tr>\n",
       "      <th>7325</th>\n",
       "      <td>7400</td>\n",
       "      <td>70.0</td>\n",
       "      <td>W</td>\n",
       "      <td>0 days 03:27:25</td>\n",
       "      <td>207.416667</td>\n",
       "    </tr>\n",
       "    <tr>\n",
       "      <th>7326</th>\n",
       "      <td>8846</td>\n",
       "      <td>50.0</td>\n",
       "      <td>W</td>\n",
       "      <td>0 days 03:29:02</td>\n",
       "      <td>209.033333</td>\n",
       "    </tr>\n",
       "  </tbody>\n",
       "</table>\n",
       "<p>7326 rows × 5 columns</p>\n",
       "</div>"
      ],
      "text/plain": [
       "       number   age sex            time    time_min\n",
       "place                                              \n",
       "1          11   NaN   M 0 days 01:00:50   60.833333\n",
       "2           4   NaN   M 0 days 01:01:22   61.366667\n",
       "3           2  23.0   M 0 days 01:01:24   61.400000\n",
       "4           9   NaN   M 0 days 01:02:15   62.250000\n",
       "5           5  30.0   M 0 days 01:02:19   62.316667\n",
       "...       ...   ...  ..             ...         ...\n",
       "7322     8579   NaN   W 0 days 03:13:59  193.983333\n",
       "7323     4191   NaN   M 0 days 03:16:56  196.933333\n",
       "7324     2492  60.0   M 0 days 03:18:03  198.050000\n",
       "7325     7400  70.0   W 0 days 03:27:25  207.416667\n",
       "7326     8846  50.0   W 0 days 03:29:02  209.033333\n",
       "\n",
       "[7326 rows x 5 columns]"
      ]
     },
     "execution_count": 3,
     "metadata": {},
     "output_type": "execute_result"
    }
   ],
   "source": [
    "df = pd.read_csv('output.csv', index_col=0)\n",
    "\n",
    "df['time'] = pd.to_timedelta(df['time'])\n",
    "df['time_min'] = df['time'].dt.total_seconds()/60\n",
    "\n",
    "df"
   ]
  },
  {
   "cell_type": "markdown",
   "id": "4bce59b6",
   "metadata": {},
   "source": [
    "overall stats"
   ]
  },
  {
   "cell_type": "code",
   "execution_count": 4,
   "id": "ad37787f",
   "metadata": {},
   "outputs": [
    {
     "name": "stdout",
     "output_type": "stream",
     "text": [
      "7319 finishers\n",
      "60 % male\n",
      "median time: 1 hour, 57 minutes, 57 seconds\n"
     ]
    }
   ],
   "source": [
    "N_total = len(df['number'].unique())\n",
    "print(f'{N_total} finishers')\n",
    "\n",
    "N_male = df[df['sex'] == 'M'].shape[0]\n",
    "print(f'{round(N_male/N_total*100)} % male')\n",
    "\n",
    "hours,   remainder = divmod(df['time_min'].median(), 60)\n",
    "minutes, remainder = divmod(remainder, 1)\n",
    "seconds = remainder * 60\n",
    "print(f\"median time: {int(hours)} hour, {int(minutes)} minutes, {int(seconds)} seconds\")"
   ]
  },
  {
   "cell_type": "markdown",
   "id": "b98fc232",
   "metadata": {},
   "source": [
    "finish time distribution"
   ]
  },
  {
   "cell_type": "code",
   "execution_count": null,
   "id": "6f856197",
   "metadata": {},
   "outputs": [
    {
     "data": {
      "image/png": "[encoded data removed]",
      "text/plain": [
       "<Figure size 640x480 with 1 Axes>"
      ]
     },
     "metadata": {},
     "output_type": "display_data"
    }
   ],
   "source": [
    "plt.hist(df.loc[df['sex'] == 'M' , 'time_min'], bins=200, color=color_m, label='male')\n",
    "plt.hist(df.loc[df['sex'] == 'W' , 'time_min'], bins=200, color=color_f, label='female', alpha=0.7)\n",
    "\n",
    "# plt.axvline(df.loc[df['number'] == number, 'time_min'].iloc[0], color='r', linestyle='dashed', linewidth=1, label=number)\n",
    "plt.axvline(60 + 30,   color='w', linestyle='dashed', linewidth=1)\n",
    "plt.axvline(2*60,      color='w', linestyle='dashed', linewidth=1)\n",
    "# plt.axvline(df['time_min'].median(), color='w', linestyle='dashed', linewidth=1, label='median')\n",
    "\n",
    "plt.title('finish time distribution')\n",
    "plt.xlabel('finish time / min')\n",
    "plt.gca().axes.get_yaxis().set_visible(False)\n",
    "plt.legend()\n",
    "\n",
    "# plt.savefig('finish_time_distribution.png', dpi=300, transparent=True)"
   ]
  },
  {
   "cell_type": "markdown",
   "id": "581d32f9",
   "metadata": {},
   "source": [
    "age distribution"
   ]
  },
  {
   "cell_type": "code",
   "execution_count": 6,
   "id": "77a13acb",
   "metadata": {},
   "outputs": [
    {
     "name": "stdout",
     "output_type": "stream",
     "text": [
      "72 % finishers with age group\n"
     ]
    },
    {
     "data": {
      "application/vnd.microsoft.datawrangler.viewer.v0+json": {
       "columns": [
        {
         "name": "index",
         "rawType": "int64",
         "type": "integer"
        },
        {
         "name": "age",
         "rawType": "float64",
         "type": "float"
        },
        {
         "name": "time_min_m",
         "rawType": "float64",
         "type": "float"
        },
        {
         "name": "number_m",
         "rawType": "int64",
         "type": "integer"
        },
        {
         "name": "time_min_f",
         "rawType": "float64",
         "type": "float"
        },
        {
         "name": "number_f",
         "rawType": "float64",
         "type": "float"
        },
        {
         "name": "female_percentage",
         "rawType": "float64",
         "type": "float"
        }
       ],
       "conversionMethod": "pd.DataFrame",
       "ref": "7e9fc3c7-434f-4144-b799-f5b010512d40",
       "rows": [
        [
         "0",
         "18.0",
         "115.51666666666667",
         "33",
         "124.60833333333333",
         "12.0",
         "26.7"
        ],
        [
         "1",
         "20.0",
         "106.03333333333333",
         "49",
         "122.69166666666666",
         "30.0",
         "38.0"
        ],
        [
         "2",
         "23.0",
         "108.31666666666666",
         "175",
         "127.35",
         "197.0",
         "53.0"
        ],
        [
         "3",
         "30.0",
         "112.30833333333334",
         "874",
         "123.7",
         "553.0",
         "38.8"
        ],
        [
         "4",
         "35.0",
         "111.45833333333334",
         "612",
         "125.76666666666667",
         "309.0",
         "33.6"
        ],
        [
         "5",
         "40.0",
         "110.43333333333334",
         "431",
         "126.63333333333334",
         "247.0",
         "36.4"
        ],
        [
         "6",
         "45.0",
         "113.5",
         "327",
         "129.05",
         "208.0",
         "38.9"
        ],
        [
         "7",
         "50.0",
         "114.93333333333334",
         "311",
         "129.53333333333333",
         "139.0",
         "30.9"
        ],
        [
         "8",
         "55.0",
         "118.6",
         "281",
         "136.83333333333334",
         "125.0",
         "30.8"
        ],
        [
         "9",
         "60.0",
         "121.63333333333334",
         "169",
         "132.98333333333332",
         "61.0",
         "26.5"
        ],
        [
         "10",
         "65.0",
         "129.03333333333333",
         "72",
         "136.76666666666668",
         "22.0",
         "23.4"
        ],
        [
         "11",
         "70.0",
         "123.73333333333333",
         "23",
         "142.75833333333333",
         "4.0",
         "14.8"
        ],
        [
         "12",
         "75.0",
         "140.75",
         "11",
         null,
         null,
         null
        ],
        [
         "13",
         "80.0",
         "146.66666666666666",
         "3",
         null,
         null,
         null
        ]
       ],
       "shape": {
        "columns": 6,
        "rows": 14
       }
      },
      "text/html": [
       "<div>\n",
       "<style scoped>\n",
       "    .dataframe tbody tr th:only-of-type {\n",
       "        vertical-align: middle;\n",
       "    }\n",
       "\n",
       "    .dataframe tbody tr th {\n",
       "        vertical-align: top;\n",
       "    }\n",
       "\n",
       "    .dataframe thead th {\n",
       "        text-align: right;\n",
       "    }\n",
       "</style>\n",
       "<table border=\"1\" class=\"dataframe\">\n",
       "  <thead>\n",
       "    <tr style=\"text-align: right;\">\n",
       "      <th></th>\n",
       "      <th>age</th>\n",
       "      <th>time_min_m</th>\n",
       "      <th>number_m</th>\n",
       "      <th>time_min_f</th>\n",
       "      <th>number_f</th>\n",
       "      <th>female_percentage</th>\n",
       "    </tr>\n",
       "  </thead>\n",
       "  <tbody>\n",
       "    <tr>\n",
       "      <th>0</th>\n",
       "      <td>18.0</td>\n",
       "      <td>115.516667</td>\n",
       "      <td>33</td>\n",
       "      <td>124.608333</td>\n",
       "      <td>12.0</td>\n",
       "      <td>26.7</td>\n",
       "    </tr>\n",
       "    <tr>\n",
       "      <th>1</th>\n",
       "      <td>20.0</td>\n",
       "      <td>106.033333</td>\n",
       "      <td>49</td>\n",
       "      <td>122.691667</td>\n",
       "      <td>30.0</td>\n",
       "      <td>38.0</td>\n",
       "    </tr>\n",
       "    <tr>\n",
       "      <th>2</th>\n",
       "      <td>23.0</td>\n",
       "      <td>108.316667</td>\n",
       "      <td>175</td>\n",
       "      <td>127.350000</td>\n",
       "      <td>197.0</td>\n",
       "      <td>53.0</td>\n",
       "    </tr>\n",
       "    <tr>\n",
       "      <th>3</th>\n",
       "      <td>30.0</td>\n",
       "      <td>112.308333</td>\n",
       "      <td>874</td>\n",
       "      <td>123.700000</td>\n",
       "      <td>553.0</td>\n",
       "      <td>38.8</td>\n",
       "    </tr>\n",
       "    <tr>\n",
       "      <th>4</th>\n",
       "      <td>35.0</td>\n",
       "      <td>111.458333</td>\n",
       "      <td>612</td>\n",
       "      <td>125.766667</td>\n",
       "      <td>309.0</td>\n",
       "      <td>33.6</td>\n",
       "    </tr>\n",
       "    <tr>\n",
       "      <th>5</th>\n",
       "      <td>40.0</td>\n",
       "      <td>110.433333</td>\n",
       "      <td>431</td>\n",
       "      <td>126.633333</td>\n",
       "      <td>247.0</td>\n",
       "      <td>36.4</td>\n",
       "    </tr>\n",
       "    <tr>\n",
       "      <th>6</th>\n",
       "      <td>45.0</td>\n",
       "      <td>113.500000</td>\n",
       "      <td>327</td>\n",
       "      <td>129.050000</td>\n",
       "      <td>208.0</td>\n",
       "      <td>38.9</td>\n",
       "    </tr>\n",
       "    <tr>\n",
       "      <th>7</th>\n",
       "      <td>50.0</td>\n",
       "      <td>114.933333</td>\n",
       "      <td>311</td>\n",
       "      <td>129.533333</td>\n",
       "      <td>139.0</td>\n",
       "      <td>30.9</td>\n",
       "    </tr>\n",
       "    <tr>\n",
       "      <th>8</th>\n",
       "      <td>55.0</td>\n",
       "      <td>118.600000</td>\n",
       "      <td>281</td>\n",
       "      <td>136.833333</td>\n",
       "      <td>125.0</td>\n",
       "      <td>30.8</td>\n",
       "    </tr>\n",
       "    <tr>\n",
       "      <th>9</th>\n",
       "      <td>60.0</td>\n",
       "      <td>121.633333</td>\n",
       "      <td>169</td>\n",
       "      <td>132.983333</td>\n",
       "      <td>61.0</td>\n",
       "      <td>26.5</td>\n",
       "    </tr>\n",
       "    <tr>\n",
       "      <th>10</th>\n",
       "      <td>65.0</td>\n",
       "      <td>129.033333</td>\n",
       "      <td>72</td>\n",
       "      <td>136.766667</td>\n",
       "      <td>22.0</td>\n",
       "      <td>23.4</td>\n",
       "    </tr>\n",
       "    <tr>\n",
       "      <th>11</th>\n",
       "      <td>70.0</td>\n",
       "      <td>123.733333</td>\n",
       "      <td>23</td>\n",
       "      <td>142.758333</td>\n",
       "      <td>4.0</td>\n",
       "      <td>14.8</td>\n",
       "    </tr>\n",
       "    <tr>\n",
       "      <th>12</th>\n",
       "      <td>75.0</td>\n",
       "      <td>140.750000</td>\n",
       "      <td>11</td>\n",
       "      <td>NaN</td>\n",
       "      <td>NaN</td>\n",
       "      <td>NaN</td>\n",
       "    </tr>\n",
       "    <tr>\n",
       "      <th>13</th>\n",
       "      <td>80.0</td>\n",
       "      <td>146.666667</td>\n",
       "      <td>3</td>\n",
       "      <td>NaN</td>\n",
       "      <td>NaN</td>\n",
       "      <td>NaN</td>\n",
       "    </tr>\n",
       "  </tbody>\n",
       "</table>\n",
       "</div>"
      ],
      "text/plain": [
       "     age  time_min_m  number_m  time_min_f  number_f  female_percentage\n",
       "0   18.0  115.516667        33  124.608333      12.0               26.7\n",
       "1   20.0  106.033333        49  122.691667      30.0               38.0\n",
       "2   23.0  108.316667       175  127.350000     197.0               53.0\n",
       "3   30.0  112.308333       874  123.700000     553.0               38.8\n",
       "4   35.0  111.458333       612  125.766667     309.0               33.6\n",
       "5   40.0  110.433333       431  126.633333     247.0               36.4\n",
       "6   45.0  113.500000       327  129.050000     208.0               38.9\n",
       "7   50.0  114.933333       311  129.533333     139.0               30.9\n",
       "8   55.0  118.600000       281  136.833333     125.0               30.8\n",
       "9   60.0  121.633333       169  132.983333      61.0               26.5\n",
       "10  65.0  129.033333        72  136.766667      22.0               23.4\n",
       "11  70.0  123.733333        23  142.758333       4.0               14.8\n",
       "12  75.0  140.750000        11         NaN       NaN                NaN\n",
       "13  80.0  146.666667         3         NaN       NaN                NaN"
      ]
     },
     "execution_count": 6,
     "metadata": {},
     "output_type": "execute_result"
    }
   ],
   "source": [
    "df_age_male   = df[df['sex'] == 'M'].groupby('age').agg({'time_min': 'median', 'number' : 'count'})\n",
    "df_age_female = df[df['sex'] == 'W'].groupby('age').agg({'time_min': 'median', 'number' : 'count'})\n",
    "\n",
    "df_age = pd.merge(df_age_male, df_age_female, on='age', suffixes=['_m','_f'], how='outer').reset_index()\n",
    "\n",
    "df_age['female_percentage'] = round(df_age['number_f'] / (df_age['number_m'] + df_age['number_f']) * 100 , 1)\n",
    "\n",
    "N_age = df_age['number_m'].sum() + df_age['number_f'].sum()\n",
    "print(f'{round(N_age/N_total*100)} % finishers with age group')\n",
    "\n",
    "df_age"
   ]
  },
  {
   "cell_type": "code",
   "execution_count": null,
   "id": "d19b9a29",
   "metadata": {},
   "outputs": [
    {
     "data": {
      "image/png": "[encoded data removed]",
      "text/plain": [
       "<Figure size 640x480 with 1 Axes>"
      ]
     },
     "metadata": {},
     "output_type": "display_data"
    }
   ],
   "source": [
    "plt.bar(15, df_age['number_m'].iloc[0], color=color_m, align='edge', width=2.5, label='male')\n",
    "plt.bar(15, df_age['number_f'].iloc[0], color=color_f, align='edge', width=2.5, label='female', alpha=0.7)\n",
    "\n",
    "plt.bar(df_age['age'].iloc[0], df_age['number_m'].iloc[1], color=color_m, align='edge', width=1.5)\n",
    "plt.bar(df_age['age'].iloc[0], df_age['number_f'].iloc[1], color=color_f, align='edge', width=1.5, alpha=0.7)\n",
    "\n",
    "plt.bar(df_age['age'].iloc[1], df_age['number_m'].iloc[2], color=color_m, align='edge', width=2.5)\n",
    "plt.bar(df_age['age'].iloc[1], df_age['number_f'].iloc[2], color=color_f, align='edge', width=2.5, alpha=0.7)\n",
    "\n",
    "plt.bar(df_age['age'].iloc[2],  df_age['number_m'].iloc[3],  color=color_m, align='edge', width=11.5)\n",
    "plt.bar(df_age['age'].iloc[2],  df_age['number_f'].iloc[3],  color=color_f, align='edge', width=11.5, alpha=0.7)\n",
    "\n",
    "plt.bar(df_age['age'].iloc[4:], df_age['number_m'].iloc[4:], color=color_m, align='edge', width=4.5)\n",
    "plt.bar(df_age['age'].iloc[4:], df_age['number_f'].iloc[4:], color=color_f, align='edge', width=4.5, alpha=0.7)\n",
    "\n",
    "plt.xlabel('age')\n",
    "plt.ylabel('number of finishers')\n",
    "plt.title('age distribution')\n",
    "plt.legend()\n",
    "\n",
    "# plt.savefig('age_distribution.png', dpi=300, transparent=True)"
   ]
  },
  {
   "cell_type": "markdown",
   "id": "c4899962",
   "metadata": {},
   "source": [
    "median finish time by age"
   ]
  },
  {
   "cell_type": "code",
   "execution_count": 9,
   "id": "7898a466",
   "metadata": {},
   "outputs": [
    {
     "data": {
      "text/plain": [
       "<matplotlib.legend.Legend at 0x1b8a4810b90>"
      ]
     },
     "execution_count": 9,
     "metadata": {},
     "output_type": "execute_result"
    },
    {
     "data": {
      "image/png": "[encoded data removed]",
      "text/plain": [
       "<Figure size 640x480 with 1 Axes>"
      ]
     },
     "metadata": {},
     "output_type": "display_data"
    }
   ],
   "source": [
    "df_age.plot(x='age', y=['time_min_m','time_min_f'], color=[color_m, color_f], label=['male','female'])\n",
    "plt.ylabel('median time / min')\n",
    "plt.title('median finish time by age')\n",
    "plt.legend()\n",
    "\n",
    "# plt.savefig('finish_time_age.png', dpi=300, transparent=True)"
   ]
  },
  {
   "cell_type": "markdown",
   "id": "9fa61a0b",
   "metadata": {},
   "source": [
    "individual results"
   ]
  },
  {
   "cell_type": "code",
   "execution_count": 10,
   "id": "ffbd1d6e",
   "metadata": {},
   "outputs": [
    {
     "name": "stdout",
     "output_type": "stream",
     "text": [
      "2254. of 4382 males (51.44 %)\n"
     ]
    }
   ],
   "source": [
    "df_male = df[df['sex'] == 'M']\n",
    "df_male.reset_index(drop=True, inplace=True)\n",
    "\n",
    "position_male = df_male[df_male['number'] == number].index[0] + 1\n",
    "\n",
    "print(f'{position_male}. of {N_male} males ({position_male/N_male*100:.2f} %)')"
   ]
  },
  {
   "cell_type": "code",
   "execution_count": 11,
   "id": "008ec8f0",
   "metadata": {},
   "outputs": [
    {
     "name": "stdout",
     "output_type": "stream",
     "text": [
      "342. of 612 males (55.88 %)\n"
     ]
    }
   ],
   "source": [
    "df_male_age = df_male[df_male['age'] == age]\n",
    "df_male_age.reset_index(drop=True, inplace=True)\n",
    "\n",
    "N_male_age = df_male_age.shape[0]\n",
    "\n",
    "position_male_age = df_male_age[df_male_age['number'] == number].index[0] + 1\n",
    "\n",
    "print(f'{position_male_age}. of {N_male_age} males ({position_male_age/N_male_age*100:.2f} %)')"
   ]
  }
 ],
 "metadata": {
  "kernelspec": {
   "display_name": "Python 3",
   "language": "python",
   "name": "python3"
  },
  "language_info": {
   "codemirror_mode": {
    "name": "ipython",
    "version": 3
   },
   "file_extension": ".py",
   "mimetype": "text/x-python",
   "name": "python",
   "nbconvert_exporter": "python",
   "pygments_lexer": "ipython3",
   "version": "3.13.2"
  }
 },
 "nbformat": 4,
 "nbformat_minor": 5
}
